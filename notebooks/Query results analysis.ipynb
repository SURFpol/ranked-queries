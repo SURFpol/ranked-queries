{
 "cells": [
  {
   "cell_type": "markdown",
   "metadata": {},
   "source": [
    "This notebook tries to figure out what goes wrong with the queries and Elastic Search. Elastic Search results and annotated rankings by Jelmer de Ronde do not match."
   ]
  },
  {
   "cell_type": "code",
   "execution_count": 33,
   "metadata": {},
   "outputs": [],
   "source": [
    "import json\n",
    "from collections import Counter\n",
    "from pprint import pprint"
   ]
  },
  {
   "cell_type": "code",
   "execution_count": 4,
   "metadata": {},
   "outputs": [],
   "source": [
    "# Loading all documents that are present in ES\n",
    "with open(\"../resources/elasticsearch-documents.json\", \"r\") as search_json:\n",
    "    search_documents = {\n",
    "        doc[\"id\"]: doc\n",
    "        for doc in json.load(search_json)\n",
    "    }\n",
    "\n",
    "# Loading the annotated rankings    \n",
    "with open(\"../queries.json\", \"r\") as queries_json:\n",
    "    queries = json.load(queries_json)"
   ]
  },
  {
   "cell_type": "code",
   "execution_count": 4,
   "metadata": {},
   "outputs": [
    {
     "data": {
      "text/plain": [
       "{'id': '5afabd996c9a78e915ab54655a6875c34787381e',\n",
       " 'title': 'Powerpoint motivatietheorie',\n",
       " 'language': 'en',\n",
       " 'url': 'https://ndownloader.figshare.com/files/7026497',\n",
       " 'text': 'Motivatietheorie – self detemination theory (SDT)\\nRyan en Deci (2000)\\n\\n\\n\\n\\n\\n\\n1\\n\\nDrie basisbehoeften\\n\\n\\n\\n\\nRelatie\\nCompetentie \\nAutonomie \\n\\n\\n\\n\\n2\\n\\n',\n",
       " 'mime_type': 'application/vnd.openxmlformats-officedocument.presentationml.presentation',\n",
       " 'collection_name': 'figshare',\n",
       " 'humanized_mime_type': 'powerp.',\n",
       " 'keywords': ['Utrecht University',\n",
       "  'Universiteit Utrecht',\n",
       "  'Education',\n",
       "  'Higher Education',\n",
       "  'Talentontwikkeling',\n",
       "  'Motivatietheorie',\n",
       "  'selfdetermination'],\n",
       " 'item_id': 4308860,\n",
       " 'item_url': 'https://api.figshare.com/v2/articles/4308860'}"
      ]
     },
     "execution_count": 4,
     "metadata": {},
     "output_type": "execute_result"
    }
   ],
   "source": [
    "list(search_documents.values())[0]"
   ]
  },
  {
   "cell_type": "code",
   "execution_count": 5,
   "metadata": {},
   "outputs": [
    {
     "name": "stdout",
     "output_type": "stream",
     "text": [
      "Missing: 25\n",
      "Present: 118\n",
      "Duplicates: 8\n"
     ]
    }
   ],
   "source": [
    "# Check presence / absence of ranked documents in the Elastic Search index\n",
    "missing = set()\n",
    "present = set()\n",
    "duplicates_count = 0\n",
    "for query in queries:\n",
    "    items = query[\"items\"]\n",
    "    for item in items:\n",
    "        hsh = item[\"hash\"]\n",
    "        if hsh not in search_documents:\n",
    "            missing.add(hsh)\n",
    "        else:\n",
    "            if hsh in present:\n",
    "                duplicates_count += 1\n",
    "            else:\n",
    "                present.add(hsh)\n",
    "\n",
    "print(\"Missing:\", len(missing))\n",
    "print(\"Present:\", len(present))\n",
    "print(\"Duplicates:\", duplicates_count)\n"
   ]
  },
  {
   "cell_type": "markdown",
   "metadata": {},
   "source": [
    "So we're missing about 20% of the ranked documents in the Elastic Search documents. We should look into this at some point. \n",
    "\n",
    "Now I'll continue with analysing which documents should be retrieved through Elastic Search. So what kind of documents are present in the annotated query rankings."
   ]
  },
  {
   "cell_type": "code",
   "execution_count": 49,
   "metadata": {},
   "outputs": [
    {
     "name": "stdout",
     "output_type": "stream",
     "text": [
      "126\n"
     ]
    }
   ],
   "source": [
    "# This builds an overview of which document types and which collections \n",
    "# are both present in the annotated queries and in the Elastic Search index\n",
    "\n",
    "query_aggregation = {}\n",
    "query_documents = []\n",
    "for query in queries:\n",
    "    aggregation = {\n",
    "        \"collections\": {},\n",
    "        \"mime_types\": {},\n",
    "        \"ids\": []\n",
    "    }\n",
    "    for item in query[\"items\"]:\n",
    "        hsh = item[\"hash\"]\n",
    "        if hsh not in search_documents:  # filters out anything that is not in ES\n",
    "            continue\n",
    "        doc = search_documents[hsh]\n",
    "        aggregation[\"ids\"].append(doc[\"id\"])\n",
    "        query_documents.append(doc)\n",
    "        if not doc[\"collection_name\"] in aggregation[\"collections\"]:\n",
    "            aggregation[\"collections\"][doc[\"collection_name\"]] = 1\n",
    "        else:\n",
    "            aggregation[\"collections\"][doc[\"collection_name\"]] += 1\n",
    "        if not doc[\"mime_type\"] in aggregation[\"mime_types\"]:\n",
    "            aggregation[\"mime_types\"][doc[\"mime_type\"]] = 1\n",
    "        else:\n",
    "            aggregation[\"mime_types\"][doc[\"mime_type\"]] += 1\n",
    "\n",
    "    query_aggregation[\" / \".join(query[\"queries\"])] = aggregation\n",
    "\n",
    "print(len(query_documents))"
   ]
  },
  {
   "cell_type": "code",
   "execution_count": 46,
   "metadata": {},
   "outputs": [
    {
     "name": "stdout",
     "output_type": "stream",
     "text": [
      "{\n",
      "    \"leren leren\": {\n",
      "        \"collections\": {\n",
      "            \"leraar24\": 3,\n",
      "            \"wur\": 3,\n",
      "            \"figshare\": 1,\n",
      "            \"wwmhbo\": 3\n",
      "        },\n",
      "        \"mime_types\": {\n",
      "            \"video\": 6,\n",
      "            \"application/pdf\": 4\n",
      "        }\n",
      "    },\n",
      "    \"reflectievaardigheden\": {\n",
      "        \"collections\": {\n",
      "            \"wur\": 3,\n",
      "            \"hbovpk\": 1\n",
      "        },\n",
      "        \"mime_types\": {\n",
      "            \"video\": 3,\n",
      "            \"application/vnd.openxmlformats-officedocument.wordprocessingml.document\": 1\n",
      "        }\n",
      "    },\n",
      "    \"feedback geven / giving feedback\": {\n",
      "        \"collections\": {\n",
      "            \"wur\": 2,\n",
      "            \"stimuleringsmaatregel\": 1\n",
      "        },\n",
      "        \"mime_types\": {\n",
      "            \"video\": 2,\n",
      "            \"application/pdf\": 1\n",
      "        }\n",
      "    },\n",
      "    \"genetische modificatie / biology transformation\": {\n",
      "        \"collections\": {\n",
      "            \"wur\": 9\n",
      "        },\n",
      "        \"mime_types\": {\n",
      "            \"video\": 9\n",
      "        }\n",
      "    },\n",
      "    \"harmonie / harmonie muziek\": {\n",
      "        \"collections\": {\n",
      "            \"stimuleringsmaatregel\": 11\n",
      "        },\n",
      "        \"mime_types\": {\n",
      "            \"application/vnd.openxmlformats-officedocument.wordprocessingml.document\": 10,\n",
      "            \"application/pdf\": 1\n",
      "        }\n",
      "    },\n",
      "    \"noteren van muziek / noten schrijven\": {\n",
      "        \"collections\": {\n",
      "            \"stimuleringsmaatregel\": 12\n",
      "        },\n",
      "        \"mime_types\": {\n",
      "            \"application/pdf\": 12\n",
      "        }\n",
      "    },\n",
      "    \"depressie / depressiviteit / depressief / depression\": {\n",
      "        \"collections\": {\n",
      "            \"leraar24\": 1,\n",
      "            \"wur\": 2,\n",
      "            \"wwmhbo\": 4,\n",
      "            \"stimuleringsmaatregel\": 1\n",
      "        },\n",
      "        \"mime_types\": {\n",
      "            \"video\": 4,\n",
      "            \"application/vnd.openxmlformats-officedocument.wordprocessingml.document\": 1,\n",
      "            \"application/pdf\": 3\n",
      "        }\n",
      "    },\n",
      "    \"didactiek\": {\n",
      "        \"collections\": {\n",
      "            \"wwmhbo\": 44,\n",
      "            \"leraar24\": 2,\n",
      "            \"figshare\": 1\n",
      "        },\n",
      "        \"mime_types\": {\n",
      "            \"application/pdf\": 20,\n",
      "            \"application/vnd.openxmlformats-officedocument.wordprocessingml.document\": 24,\n",
      "            \"video\": 2,\n",
      "            \"application/vnd.openxmlformats-officedocument.presentationml.presentation\": 1\n",
      "        }\n",
      "    },\n",
      "    \"epidemiologie\": {\n",
      "        \"collections\": {\n",
      "            \"wur\": 11\n",
      "        },\n",
      "        \"mime_types\": {\n",
      "            \"video\": 11\n",
      "        }\n",
      "    },\n",
      "    \"gene\": {\n",
      "        \"collections\": {\n",
      "            \"wur\": 8\n",
      "        },\n",
      "        \"mime_types\": {\n",
      "            \"video\": 8\n",
      "        }\n",
      "    },\n",
      "    \"injecteren / injecties geven / hoe geef je een injectie\": {\n",
      "        \"collections\": {\n",
      "            \"hbovpk\": 1,\n",
      "            \"stimuleringsmaatregel\": 2\n",
      "        },\n",
      "        \"mime_types\": {\n",
      "            \"application/pdf\": 1,\n",
      "            \"video\": 2\n",
      "        }\n",
      "    }\n",
      "}\n"
     ]
    }
   ],
   "source": [
    "# The document types and collections present in the annotated queries\n",
    "with open(\"ranked_query_ids.json\", \"w\") as json_file:\n",
    "    json.dump(query_aggregation, json_file, indent=4)"
   ]
  },
  {
   "cell_type": "code",
   "execution_count": 37,
   "metadata": {},
   "outputs": [
    {
     "name": "stdout",
     "output_type": "stream",
     "text": [
      "Collections: Counter({'wwmhbo': 51, 'wur': 38, 'stimuleringsmaatregel': 27, 'leraar24': 6, 'figshare': 2, 'hbovpk': 2})\n",
      "\n",
      "Mime types: Counter({'video': 47, 'application/pdf': 42, 'application/vnd.openxmlformats-officedocument.wordprocessingml.document': 36, 'application/vnd.openxmlformats-officedocument.presentationml.presentation': 1})\n"
     ]
    }
   ],
   "source": [
    "# Looking at which collections and mime types are present across queries and should be found by Elastic Search.\n",
    "# This gives a first indication of which collections and/or mime types should be worked on to improve accuracy.\n",
    "\n",
    "collections = Counter()\n",
    "mime_types = Counter()\n",
    "for query, aggregates in query_aggregation.items():\n",
    "    collections += Counter(aggregates[\"collections\"])\n",
    "    mime_types += Counter(aggregates[\"mime_types\"])\n",
    "\n",
    "print(\"Collections:\", collections)\n",
    "print()\n",
    "print(\"Mime types:\", mime_types)"
   ]
  },
  {
   "cell_type": "markdown",
   "metadata": {},
   "source": [
    "We can see that content packages and WUR transcriptions should be found the most. Together they make up more than 50% of the documents that should be found and which ES is able to find currently, because they are present in the index.\n",
    "\n",
    "Let's dig a little deeper into mime types per collection."
   ]
  },
  {
   "cell_type": "code",
   "execution_count": 56,
   "metadata": {},
   "outputs": [
    {
     "name": "stdout",
     "output_type": "stream",
     "text": [
      "Wikiwijsmaken application count: 51\n",
      "WUR (non-Kaldi) video count: 38\n",
      "Stimuleringsmaatregel (Kaldi) video count: 3\n",
      "HBO VPK (Kaldi) video count: 0\n"
     ]
    }
   ],
   "source": [
    "wwmhbo_application_count = len([\n",
    "    doc for doc in query_documents\n",
    "    if doc[\"collection_name\"] == \"wwmhbo\" and \n",
    "    doc[\"mime_type\"].startswith(\"application\")\n",
    "])\n",
    "\n",
    "wur_video_count = len([\n",
    "    doc for doc in query_documents\n",
    "    if doc[\"collection_name\"] == \"wur\" and \n",
    "    doc[\"mime_type\"].startswith(\"video\")\n",
    "])\n",
    "\n",
    "stimuleringsmaatregel_video_count = len([\n",
    "    doc for doc in query_documents\n",
    "    if doc[\"collection_name\"] == \"stimuleringsmaatregel\" and \n",
    "    doc[\"mime_type\"].startswith(\"video\")\n",
    "])\n",
    "\n",
    "hbovpk_video_count = len([\n",
    "    doc for doc in query_documents\n",
    "    if doc[\"collection_name\"] == \"hbovpk\" and \n",
    "    doc[\"mime_type\"].startswith(\"video\")\n",
    "])\n",
    "\n",
    "print(\"Wikiwijsmaken application count:\", wwmhbo_application_count)\n",
    "print(\"WUR (non-Kaldi) video count:\", wur_video_count)\n",
    "print(\"Stimuleringsmaatregel (Kaldi) video count:\", stimuleringsmaatregel_video_count)\n",
    "print(\"HBO VPK (Kaldi) video count:\", hbovpk_video_count)"
   ]
  },
  {
   "cell_type": "markdown",
   "metadata": {},
   "source": [
    "The WUR consists 100% of video transcribes that we haven't created ourselves. So if incorrect transcripts are a problem during search, then we can't do much about it.\n",
    "\n",
    "The Wikiwijsmaken HBO content consists 100% of PDF and/or Microsoft office documents.\n",
    "\n",
    "As we can see the total contribution of Kaldi to the disappointing results can't be very large, because in total there are only 9 Kaldi videos that should/could be found. 6 from Leraar24 and 3 from Stimuleringsmaatregel."
   ]
  }
 ],
 "metadata": {
  "kernelspec": {
   "display_name": "Python [conda env:ml]",
   "language": "python",
   "name": "conda-env-ml-py"
  },
  "language_info": {
   "codemirror_mode": {
    "name": "ipython",
    "version": 3
   },
   "file_extension": ".py",
   "mimetype": "text/x-python",
   "name": "python",
   "nbconvert_exporter": "python",
   "pygments_lexer": "ipython3",
   "version": "3.6.6"
  },
  "varInspector": {
   "cols": {
    "lenName": 16,
    "lenType": 16,
    "lenVar": 40
   },
   "kernels_config": {
    "python": {
     "delete_cmd_postfix": "",
     "delete_cmd_prefix": "del ",
     "library": "var_list.py",
     "varRefreshCmd": "print(var_dic_list())"
    },
    "r": {
     "delete_cmd_postfix": ") ",
     "delete_cmd_prefix": "rm(",
     "library": "var_list.r",
     "varRefreshCmd": "cat(var_dic_list()) "
    }
   },
   "types_to_exclude": [
    "module",
    "function",
    "builtin_function_or_method",
    "instance",
    "_Feature"
   ],
   "window_display": false
  }
 },
 "nbformat": 4,
 "nbformat_minor": 2
}
